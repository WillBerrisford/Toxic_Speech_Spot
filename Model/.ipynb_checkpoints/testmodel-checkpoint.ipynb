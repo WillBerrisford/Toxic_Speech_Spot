{
 "cells": [
  {
   "cell_type": "code",
   "execution_count": 2,
   "metadata": {
    "scrolled": false
   },
   "outputs": [
    {
     "name": "stdout",
     "output_type": "stream",
     "text": [
      "Checking whether there is an H2O instance running at http://localhost:54321. connected.\n"
     ]
    },
    {
     "data": {
      "text/html": [
       "<div style=\"overflow:auto\"><table style=\"width:50%\"><tr><td>H2O cluster uptime:</td>\n",
       "<td>18 mins 25 secs</td></tr>\n",
       "<tr><td>H2O cluster timezone:</td>\n",
       "<td>Europe/London</td></tr>\n",
       "<tr><td>H2O data parsing timezone:</td>\n",
       "<td>UTC</td></tr>\n",
       "<tr><td>H2O cluster version:</td>\n",
       "<td>3.18.0.2</td></tr>\n",
       "<tr><td>H2O cluster version age:</td>\n",
       "<td>23 days </td></tr>\n",
       "<tr><td>H2O cluster name:</td>\n",
       "<td>H2O_from_python_will_1vlppa</td></tr>\n",
       "<tr><td>H2O cluster total nodes:</td>\n",
       "<td>1</td></tr>\n",
       "<tr><td>H2O cluster free memory:</td>\n",
       "<td>4.834 Gb</td></tr>\n",
       "<tr><td>H2O cluster total cores:</td>\n",
       "<td>12</td></tr>\n",
       "<tr><td>H2O cluster allowed cores:</td>\n",
       "<td>10</td></tr>\n",
       "<tr><td>H2O cluster status:</td>\n",
       "<td>locked, healthy</td></tr>\n",
       "<tr><td>H2O connection url:</td>\n",
       "<td>http://localhost:54321</td></tr>\n",
       "<tr><td>H2O connection proxy:</td>\n",
       "<td>None</td></tr>\n",
       "<tr><td>H2O internal security:</td>\n",
       "<td>False</td></tr>\n",
       "<tr><td>H2O API Extensions:</td>\n",
       "<td>XGBoost, Algos, AutoML, Core V3, Core V4</td></tr>\n",
       "<tr><td>Python version:</td>\n",
       "<td>3.6.4 final</td></tr></table></div>"
      ],
      "text/plain": [
       "--------------------------  ----------------------------------------\n",
       "H2O cluster uptime:         18 mins 25 secs\n",
       "H2O cluster timezone:       Europe/London\n",
       "H2O data parsing timezone:  UTC\n",
       "H2O cluster version:        3.18.0.2\n",
       "H2O cluster version age:    23 days\n",
       "H2O cluster name:           H2O_from_python_will_1vlppa\n",
       "H2O cluster total nodes:    1\n",
       "H2O cluster free memory:    4.834 Gb\n",
       "H2O cluster total cores:    12\n",
       "H2O cluster allowed cores:  10\n",
       "H2O cluster status:         locked, healthy\n",
       "H2O connection url:         http://localhost:54321\n",
       "H2O connection proxy:\n",
       "H2O internal security:      False\n",
       "H2O API Extensions:         XGBoost, Algos, AutoML, Core V3, Core V4\n",
       "Python version:             3.6.4 final\n",
       "--------------------------  ----------------------------------------"
      ]
     },
     "metadata": {},
     "output_type": "display_data"
    },
    {
     "name": "stdout",
     "output_type": "stream",
     "text": [
      "Parse progress: |█████████████████████████████████████████████████████████| 100%\n",
      "\n",
      "Training CSV file imported successfully\n",
      "Frame split correctly\n",
      "Parse progress: |█████████████████████████████████████████████████████████| 100%\n",
      "\n",
      "Testing CSV file imported successfully\n",
      "Predictor and repsonese assigned\n",
      "Grid search defined\n",
      "\n",
      "drf Model Build progress: |███████████████████████████████████████████████| 100%\n"
     ]
    },
    {
     "ename": "ValueError",
     "evalue": "The only allowable metrics are min_per_class_accuracy, absolute_mcc, precision, accuracy, f0point5, f2, f1, mean_per_class_accuracy",
     "output_type": "error",
     "traceback": [
      "\u001b[0;31m---------------------------------------------------------------------------\u001b[0m",
      "\u001b[0;31mValueError\u001b[0m                                Traceback (most recent call last)",
      "\u001b[0;32m<ipython-input-2-07815457184e>\u001b[0m in \u001b[0;36m<module>\u001b[0;34m()\u001b[0m\n\u001b[1;32m     74\u001b[0m \u001b[0;34m\u001b[0m\u001b[0m\n\u001b[1;32m     75\u001b[0m \u001b[0;34m\u001b[0m\u001b[0m\n\u001b[0;32m---> 76\u001b[0;31m \u001b[0mprint\u001b[0m\u001b[0;34m(\u001b[0m\u001b[0mtoxic_rdf_grid\u001b[0m\u001b[0;34m.\u001b[0m\u001b[0mconfusion_matrix\u001b[0m\u001b[0;34m(\u001b[0m\u001b[0;34m\"tpr\"\u001b[0m\u001b[0;34m)\u001b[0m\u001b[0;34m)\u001b[0m\u001b[0;34m\u001b[0m\u001b[0m\n\u001b[0m\u001b[1;32m     77\u001b[0m \u001b[0mprint\u001b[0m\u001b[0;34m(\u001b[0m\u001b[0mtoxic_rdf_grid\u001b[0m\u001b[0;34m.\u001b[0m\u001b[0mconfusion_matrix\u001b[0m\u001b[0;34m(\u001b[0m\u001b[0;34m\"tpr\"\u001b[0m\u001b[0;34m)\u001b[0m\u001b[0;34m)\u001b[0m\u001b[0;34m\u001b[0m\u001b[0m\n\u001b[1;32m     78\u001b[0m \u001b[0;34m\u001b[0m\u001b[0m\n",
      "\u001b[0;32m~/Computerscience/Anaconda3/lib/python3.6/site-packages/h2o/model/binomial.py\u001b[0m in \u001b[0;36mconfusion_matrix\u001b[0;34m(self, metrics, thresholds, train, valid, xval)\u001b[0m\n\u001b[1;32m    524\u001b[0m         \u001b[0mm\u001b[0m \u001b[0;34m=\u001b[0m \u001b[0;34m{\u001b[0m\u001b[0;34m}\u001b[0m\u001b[0;34m\u001b[0m\u001b[0m\n\u001b[1;32m    525\u001b[0m         \u001b[0;32mfor\u001b[0m \u001b[0mk\u001b[0m\u001b[0;34m,\u001b[0m \u001b[0mv\u001b[0m \u001b[0;32min\u001b[0m \u001b[0mviewitems\u001b[0m\u001b[0;34m(\u001b[0m\u001b[0mtm\u001b[0m\u001b[0;34m)\u001b[0m\u001b[0;34m:\u001b[0m\u001b[0;34m\u001b[0m\u001b[0m\n\u001b[0;32m--> 526\u001b[0;31m             \u001b[0mm\u001b[0m\u001b[0;34m[\u001b[0m\u001b[0mk\u001b[0m\u001b[0;34m]\u001b[0m \u001b[0;34m=\u001b[0m \u001b[0;32mNone\u001b[0m \u001b[0;32mif\u001b[0m \u001b[0mv\u001b[0m \u001b[0;32mis\u001b[0m \u001b[0;32mNone\u001b[0m \u001b[0;32melse\u001b[0m \u001b[0mv\u001b[0m\u001b[0;34m.\u001b[0m\u001b[0mconfusion_matrix\u001b[0m\u001b[0;34m(\u001b[0m\u001b[0mmetrics\u001b[0m\u001b[0;34m=\u001b[0m\u001b[0mmetrics\u001b[0m\u001b[0;34m,\u001b[0m \u001b[0mthresholds\u001b[0m\u001b[0;34m=\u001b[0m\u001b[0mthresholds\u001b[0m\u001b[0;34m)\u001b[0m\u001b[0;34m\u001b[0m\u001b[0m\n\u001b[0m\u001b[1;32m    527\u001b[0m         \u001b[0;32mreturn\u001b[0m \u001b[0mlist\u001b[0m\u001b[0;34m(\u001b[0m\u001b[0mm\u001b[0m\u001b[0;34m.\u001b[0m\u001b[0mvalues\u001b[0m\u001b[0;34m(\u001b[0m\u001b[0;34m)\u001b[0m\u001b[0;34m)\u001b[0m\u001b[0;34m[\u001b[0m\u001b[0;36m0\u001b[0m\u001b[0;34m]\u001b[0m \u001b[0;32mif\u001b[0m \u001b[0mlen\u001b[0m\u001b[0;34m(\u001b[0m\u001b[0mm\u001b[0m\u001b[0;34m)\u001b[0m \u001b[0;34m==\u001b[0m \u001b[0;36m1\u001b[0m \u001b[0;32melse\u001b[0m \u001b[0mm\u001b[0m\u001b[0;34m\u001b[0m\u001b[0m\n\u001b[1;32m    528\u001b[0m \u001b[0;34m\u001b[0m\u001b[0m\n",
      "\u001b[0;32m~/Computerscience/Anaconda3/lib/python3.6/site-packages/h2o/model/metrics_base.py\u001b[0m in \u001b[0;36mconfusion_matrix\u001b[0;34m(self, metrics, thresholds)\u001b[0m\n\u001b[1;32m    583\u001b[0m                                  \"accuracy\", \"f0point5\", \"f2\", \"f1\", \"mean_per_class_accuracy\"] for m in metrics_list):\n\u001b[1;32m    584\u001b[0m             raise ValueError(\n\u001b[0;32m--> 585\u001b[0;31m                 \u001b[0;34m\"The only allowable metrics are min_per_class_accuracy, absolute_mcc, precision, accuracy, f0point5, \"\u001b[0m\u001b[0;34m\u001b[0m\u001b[0m\n\u001b[0m\u001b[1;32m    586\u001b[0m                 \"f2, f1, mean_per_class_accuracy\")\n\u001b[1;32m    587\u001b[0m \u001b[0;34m\u001b[0m\u001b[0m\n",
      "\u001b[0;31mValueError\u001b[0m: The only allowable metrics are min_per_class_accuracy, absolute_mcc, precision, accuracy, f0point5, f2, f1, mean_per_class_accuracy"
     ]
    }
   ],
   "source": [
    "###Importing Modules\n",
    "\n",
    "import matplotlib.pyplot as plt\n",
    "import numpy as np\n",
    "import h2o\n",
    "import pandas as pd\n",
    "import csv\n",
    "import os.path\n",
    "\n",
    "###Removing current instances of H2o and initialising H2o\n",
    "\n",
    "h2o.init(ip='localhost', nthreads=10,\n",
    "\t\t\t\t\t min_mem_size='1G', max_mem_size='7G')\n",
    "h2o.remove_all()\n",
    "\n",
    "###Importing H2o\n",
    "\n",
    "from h2o.estimators.random_forest import H2ORandomForestEstimator\n",
    "from h2o.model.metrics_base import H2OBinomialModelMetrics \n",
    "from h2o.grid.metrics import H2OBinomialGridSearch\n",
    "from h2o.grid.grid_search import H2OGridSearch\n",
    "from h2o.model import H2OBinomialModel\n",
    "from h2o.model.model_base import ModelBase\n",
    "from h2o.frame import H2OFrame\n",
    "\n",
    "\n",
    "\n",
    "###loading raw datapytho\n",
    "#training\n",
    "\n",
    "training_data = h2o.import_file(\"/home/will/Computerscience/Machinelearning/Projects/Toxicspeechspot/Programdata/train_tagged.csv\")\n",
    "\n",
    "print(\"\\nTraining CSV file imported successfully\")\n",
    "\n",
    "###Splitting training data into training, validation and testing \n",
    "\n",
    "train, valid = training_data.split_frame([.7])\n",
    "\n",
    "print(\"Frame split correctly\")\n",
    "\n",
    "#testing\n",
    "testing_data = h2o.import_file(\"/home/will/Computerscience/Machinelearning/Projects/Toxicspeechspot/Programdata/test_tagged.csv\")\n",
    "\n",
    "print(\"\\nTesting CSV file imported successfully\")\n",
    "\n",
    "\n",
    "\n",
    "\n",
    "###Defining predictor and response\n",
    "train[\"toxic\"] = train[\"toxic\"].asfactor()\n",
    "predictor = [\"comment_text\",\"tagged_length\"]\n",
    "response = \"toxic\"\n",
    "print(\"Predictor and repsonese assigned\")\n",
    "\n",
    "\n",
    "\n",
    "\n",
    "\n",
    "###Define the grid search\n",
    "\n",
    "toxic_rdf_grid = h2o.load_model(\"/home/will/Computerscience/Machinelearning/Projects/Toxicspeechspot/Notable_Models/Model427/toxic_rdf_grid_id_model_0\")\n",
    "\n",
    "print(\"Grid search defined\\n\")\n",
    "\n",
    "###Running the grid search\n",
    "\n",
    "\n",
    "\n",
    "toxic_rdf_grid.train(predictor,\n",
    "\t\t\t\t\tresponse,\n",
    "\t\t\t\t\ttraining_frame=train,\n",
    "\t\t\t\t\tvalidation_frame=valid)#,\n",
    "\t\t\t\t\t #nfolds = 5)\n",
    "\t\t\t\t\t \n",
    "\n",
    "print(toxic_rdf_grid.confusion_matrix(\"accuracy\"))\n",
    "print(toxic_rdf_grid.confusion_matrix(\"accuracy\"))\n",
    "\n"
   ]
  },
  {
   "cell_type": "code",
   "execution_count": null,
   "metadata": {},
   "outputs": [],
   "source": []
  }
 ],
 "metadata": {
  "kernelspec": {
   "display_name": "Python 3",
   "language": "python",
   "name": "python3"
  },
  "language_info": {
   "codemirror_mode": {
    "name": "ipython",
    "version": 3
   },
   "file_extension": ".py",
   "mimetype": "text/x-python",
   "name": "python",
   "nbconvert_exporter": "python",
   "pygments_lexer": "ipython3",
   "version": "3.6.4"
  }
 },
 "nbformat": 4,
 "nbformat_minor": 2
}
