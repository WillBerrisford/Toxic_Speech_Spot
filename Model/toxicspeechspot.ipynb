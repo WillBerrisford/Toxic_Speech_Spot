{
 "cells": [
  {
   "cell_type": "code",
   "execution_count": 2,
   "metadata": {},
   "outputs": [
    {
     "name": "stdout",
     "output_type": "stream",
     "text": [
      "Checking whether there is an H2O instance running at http://localhost:54321..... not found.\n",
      "Attempting to start a local H2O server...\n",
      "  Java Version: openjdk version \"1.8.0_151\"; OpenJDK Runtime Environment (build 1.8.0_151-8u151-b12-0ubuntu0.17.10.2-b12); OpenJDK 64-Bit Server VM (build 25.151-b12, mixed mode)\n",
      "  Starting server from /home/will/Computerscience/Anaconda3/lib/python3.6/site-packages/h2o/backend/bin/h2o.jar\n",
      "  Ice root: /tmp/tmpj5_lb_rs\n",
      "  JVM stdout: /tmp/tmpj5_lb_rs/h2o_will_started_from_python.out\n",
      "  JVM stderr: /tmp/tmpj5_lb_rs/h2o_will_started_from_python.err\n",
      "  Server is running at http://127.0.0.1:54321\n",
      "Connecting to H2O server at http://127.0.0.1:54321... successful.\n"
     ]
    },
    {
     "data": {
      "text/html": [
       "<div style=\"overflow:auto\"><table style=\"width:50%\"><tr><td>H2O cluster uptime:</td>\n",
       "<td>02 secs</td></tr>\n",
       "<tr><td>H2O cluster timezone:</td>\n",
       "<td>Europe/London</td></tr>\n",
       "<tr><td>H2O data parsing timezone:</td>\n",
       "<td>UTC</td></tr>\n",
       "<tr><td>H2O cluster version:</td>\n",
       "<td>3.18.0.2</td></tr>\n",
       "<tr><td>H2O cluster version age:</td>\n",
       "<td>5 days </td></tr>\n",
       "<tr><td>H2O cluster name:</td>\n",
       "<td>H2O_from_python_will_rhpt57</td></tr>\n",
       "<tr><td>H2O cluster total nodes:</td>\n",
       "<td>1</td></tr>\n",
       "<tr><td>H2O cluster free memory:</td>\n",
       "<td>7.111 Gb</td></tr>\n",
       "<tr><td>H2O cluster total cores:</td>\n",
       "<td>12</td></tr>\n",
       "<tr><td>H2O cluster allowed cores:</td>\n",
       "<td>10</td></tr>\n",
       "<tr><td>H2O cluster status:</td>\n",
       "<td>accepting new members, healthy</td></tr>\n",
       "<tr><td>H2O connection url:</td>\n",
       "<td>http://127.0.0.1:54321</td></tr>\n",
       "<tr><td>H2O connection proxy:</td>\n",
       "<td>None</td></tr>\n",
       "<tr><td>H2O internal security:</td>\n",
       "<td>False</td></tr>\n",
       "<tr><td>H2O API Extensions:</td>\n",
       "<td>XGBoost, Algos, AutoML, Core V3, Core V4</td></tr>\n",
       "<tr><td>Python version:</td>\n",
       "<td>3.6.4 final</td></tr></table></div>"
      ],
      "text/plain": [
       "--------------------------  ----------------------------------------\n",
       "H2O cluster uptime:         02 secs\n",
       "H2O cluster timezone:       Europe/London\n",
       "H2O data parsing timezone:  UTC\n",
       "H2O cluster version:        3.18.0.2\n",
       "H2O cluster version age:    5 days\n",
       "H2O cluster name:           H2O_from_python_will_rhpt57\n",
       "H2O cluster total nodes:    1\n",
       "H2O cluster free memory:    7.111 Gb\n",
       "H2O cluster total cores:    12\n",
       "H2O cluster allowed cores:  10\n",
       "H2O cluster status:         accepting new members, healthy\n",
       "H2O connection url:         http://127.0.0.1:54321\n",
       "H2O connection proxy:\n",
       "H2O internal security:      False\n",
       "H2O API Extensions:         XGBoost, Algos, AutoML, Core V3, Core V4\n",
       "Python version:             3.6.4 final\n",
       "--------------------------  ----------------------------------------"
      ]
     },
     "metadata": {},
     "output_type": "display_data"
    }
   ],
   "source": [
    "###Importing Modules\n",
    "\n",
    "import matplotlib.pyplot as plt\n",
    "import numpy as np\n",
    "import h2o\n",
    "import pandas as pd\n",
    "import csv\n",
    "import os.path\n",
    "\n",
    "###Removing current instances of H2o and initialising H2o\n",
    "\n",
    "h2o.init(ip='localhost', nthreads=10,\n",
    "                     min_mem_size='1G', max_mem_size='8G')\n",
    "h2o.remove_all()\n",
    "\n",
    "###Importing H2o\n",
    "\n",
    "from h2o.estimators.random_forest import H2ORandomForestEstimator\n",
    "from h2o.model.metrics_base import H2OBinomialModelMetrics \n",
    "from h2o.grid.metrics import H2OBinomialGridSearch\n",
    "from h2o.grid.grid_search import H2OGridSearch\n",
    "from h2o.model import H2OBinomialModel\n",
    "from h2o.model.model_base import ModelBase"
   ]
  },
  {
   "cell_type": "code",
   "execution_count": 4,
   "metadata": {},
   "outputs": [
    {
     "name": "stdout",
     "output_type": "stream",
     "text": [
      "Parse progress: |█████████████████████████████████████████████████████████| 100%\n",
      "Training CSV file imported successfully\n"
     ]
    }
   ],
   "source": [
    "###loading raw data\n",
    "#training\n",
    "\n",
    "training_data = h2o.import_file(\"/home/will/Computerscience/Machinelearning/Projects/Toxicspeechspot/Programdata/train_tagged.csv\")\n",
    "\n",
    "print(\"Training CSV file imported successfully\")"
   ]
  },
  {
   "cell_type": "code",
   "execution_count": 5,
   "metadata": {
    "scrolled": false
   },
   "outputs": [
    {
     "name": "stdout",
     "output_type": "stream",
     "text": [
      "Frame split correctly\n"
     ]
    }
   ],
   "source": [
    "###Splitting training data into training, validation and testing \n",
    "\n",
    "train, valid = training_data.split_frame([.7])\n",
    "\n",
    "print(\"Frame split correctly\")"
   ]
  },
  {
   "cell_type": "code",
   "execution_count": 6,
   "metadata": {},
   "outputs": [
    {
     "name": "stdout",
     "output_type": "stream",
     "text": [
      "Parse progress: |█████████████████████████████████████████████████████████| 100%\n",
      "Testing CSV file imported successfully\n"
     ]
    }
   ],
   "source": [
    "#testing\n",
    "testing_data = h2o.import_file(\"/home/will/Computerscience/Machinelearning/Projects/Toxicspeechspot/Programdata/test_tagged.csv\")\n",
    "\n",
    "print(\"Testing CSV file imported successfully\")"
   ]
  },
  {
   "cell_type": "code",
   "execution_count": 7,
   "metadata": {},
   "outputs": [
    {
     "name": "stdout",
     "output_type": "stream",
     "text": [
      "Predictor and repsonese assigned\n"
     ]
    }
   ],
   "source": [
    "###Defining predictor and response\n",
    "#train[\"comment_text\",\"tagged_length\"] = train[\"comment_text\",\"tagged_length\"].asfactor()\n",
    "train[\"toxic\"] = train[\"toxic\"].asfactor()\n",
    "predictor = [\"comment_text\",\"tagged_length\"]\n",
    "response = \"toxic\"\n",
    "\n",
    "print(\"Predictor and repsonese assigned\")"
   ]
  },
  {
   "cell_type": "code",
   "execution_count": 8,
   "metadata": {},
   "outputs": [
    {
     "name": "stdout",
     "output_type": "stream",
     "text": [
      "Hyper parameters and grid search parameters assigned\n"
     ]
    }
   ],
   "source": [
    "###grid_search parameters\n",
    "\n",
    "criteria = {'strategy': 'RandomDiscrete',\n",
    "           'max_models':1000,\n",
    "           'seed': 1234\n",
    "           }\n",
    "\n",
    "###Defining hyper params\n",
    "\n",
    "sample_rate_hp = [i * 0.1 for i in range(1, 9)]\n",
    "ntrees_hp = 10 #[100,500,1000, 2000, 3000, 4000]\n",
    "folds = 5\n",
    "\n",
    "hyperparams= {\"sample_rate\": sample_rate_hp , \"ntrees\" : ntrees_hp}\n",
    "\n",
    "print(\"Hyper parameters and grid search parameters assigned\")\n"
   ]
  },
  {
   "cell_type": "code",
   "execution_count": 9,
   "metadata": {},
   "outputs": [
    {
     "name": "stdout",
     "output_type": "stream",
     "text": [
      "Grid search defined\n"
     ]
    }
   ],
   "source": [
    "###Define the grid search\n",
    "\n",
    "toxic_rdf_grid = H2OGridSearch(model=H2ORandomForestEstimator,\n",
    "                              grid_id='toxic_rdf_grid_id',\n",
    "                              hyper_params=hyperparams,\n",
    "                              search_criteria=criteria)\n",
    "\n",
    "print(\"Grid search defined\")"
   ]
  },
  {
   "cell_type": "code",
   "execution_count": 10,
   "metadata": {
    "scrolled": false
   },
   "outputs": [
    {
     "name": "stdout",
     "output_type": "stream",
     "text": [
      "drf Grid Build progress: |████████████████████████████████████████████████| 100%\n"
     ]
    }
   ],
   "source": [
    "###Running the grid search\n",
    "\n",
    "toxic_rdf_grid.train(predictor,\n",
    "                    response,\n",
    "                    training_frame=train,\n",
    "                    validation_frame=valid)#,\n",
    "                     #nfolds = 5)"
   ]
  },
  {
   "cell_type": "code",
   "execution_count": 11,
   "metadata": {},
   "outputs": [],
   "source": [
    "###model performance sorted by logloss\n",
    "model_perf = toxic_rdf_grid.sorted_metric_table() \n",
    "\n",
    "written = False\n",
    "i = 0\n",
    "\n",
    "while written == False:\n",
    "    if os.path.exists(\"/home/will/Computerscience/Machinelearning/Projects/Toxicspeechspot/Modelperformance/model_performance{0}.csv\".format(i)) == True:\n",
    "        i = i + 1\n",
    "    else:\n",
    "        model_perf.to_csv(\"/home/will/Computerscience/Machinelearning/Projects/Toxicspeechspot/Modelperformance/model_performance{0}.csv\".format(i))\n",
    "        break"
   ]
  },
  {
   "cell_type": "code",
   "execution_count": null,
   "metadata": {},
   "outputs": [],
   "source": []
  }
 ],
 "metadata": {
  "kernelspec": {
   "display_name": "Python 3",
   "language": "python",
   "name": "python3"
  },
  "language_info": {
   "codemirror_mode": {
    "name": "ipython",
    "version": 3
   },
   "file_extension": ".py",
   "mimetype": "text/x-python",
   "name": "python",
   "nbconvert_exporter": "python",
   "pygments_lexer": "ipython3",
   "version": "3.6.4"
  }
 },
 "nbformat": 4,
 "nbformat_minor": 2
}
