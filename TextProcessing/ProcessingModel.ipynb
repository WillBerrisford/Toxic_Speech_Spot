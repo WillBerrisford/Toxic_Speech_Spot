{
 "cells": [
  {
   "cell_type": "code",
   "execution_count": 1,
   "metadata": {},
   "outputs": [
    {
     "name": "stdout",
     "output_type": "stream",
     "text": [
      "Importing Modules\n",
      "Modules Imported\n",
      "\n"
     ]
    }
   ],
   "source": [
    "###Importing Modules\n",
    "\n",
    "print(\"Importing Modules\")\n",
    "import pandas as pd\n",
    "import nltk\n",
    "from nltk.tokenize import sent_tokenize, word_tokenize\n",
    "from nltk.corpus import stopwords\n",
    "print(\"Modules Imported\\n\")"
   ]
  },
  {
   "cell_type": "code",
   "execution_count": null,
   "metadata": {
    "scrolled": false
   },
   "outputs": [
    {
     "name": "stdout",
     "output_type": "stream",
     "text": [
      "Data frames loaded \n",
      "\n",
      "Text preprocessing started:\n",
      "Rows completed: 99 / 95850    Progress 0.1%\r"
     ]
    }
   ],
   "source": [
    "def tag_train():\n",
    "\n",
    "    print(\"TRAINING DATA\\n\")\n",
    "\n",
    "    print(\"Importing Train CSV File\")\n",
    "    train_csv = pd.read_csv(\"C:\\ComputerScience\\DeepLearning\\GitProjects\\\\toxicspeechspot\\\\toxicspeechspot\\Data\\OriginalData\\\\train.csv\", low_memory = False) #loads data frame using pandas\n",
    "\n",
    "    print(\"Training data frames loaded \\n\")\n",
    "\n",
    "    shape = train_csv.shape #dimensions of the data frame\n",
    "    rows = int(shape[0]) - 1#taking the number of rows\n",
    "\n",
    "    stop_words = set(stopwords.words('english')) ##uses nltk stop words (useless words)\n",
    "    filtered_sentence = []\n",
    "    processed =[]\n",
    "    tagged_words = []\n",
    "    tagged = []\n",
    "    tagged_len = int\n",
    "\n",
    "    print(\"Text preprocessing started:\")\n",
    "\n",
    "    for i in range (0,rows):         \n",
    "  \n",
    "        temp = str(train_csv.loc[i, 'comment_text'])    ###defines temp as the cell\n",
    "        temp_token = word_tokenize(temp)\t###tokenizes (splits up sentence into words) words in temp\n",
    "        filtered_sentence = [word for word in temp_token if word != stop_words] ###fitered sentence = every word in temp that is not in stop words is \n",
    "\n",
    "        tagged = nltk.pos_tag(filtered_sentence) ###tags (categorizes) word in filtered sentence\n",
    "        tagged_len = int(len(tagged))  ###counts the number of tagged words\n",
    "\n",
    "        train_csv.at[i, 'comment_text'] = [tagged]  ###inserts list of tagged words into the same cell the original sentence came from\n",
    "        train_csv.loc[i, 'tagged_length'] = tagged_len ###inserts length of tagged words into a empty column\n",
    "    \n",
    "        print(\"Rows completed: {} / {}    Progress {:2.1%}\".format(i, rows, i /rows), end=\"\\r\") ###prints progress of loop\n",
    "\n",
    "    print(\"\\nText preprocessing finished\")\n",
    "\n",
    "    train_csv.to_csv(\"C:\\ComputerScience\\DeepLearning\\GitProjects\\\\toxicspeechspot\\\\toxicspeechspot\\Data\\\\TaggedData\\\\train_tagged.csv\", index = False)  ###writes modified csv to a csv file\n",
    "    print(\"TRAINING DATA TAGGING FINISHED\")"
   ]
  },
  {
   "cell_type": "code",
   "execution_count": null,
   "metadata": {
    "collapsed": true
   },
   "outputs": [],
   "source": [
    "def tag_test():\n",
    "\n",
    "    print(\"\\nTESTING DATA\")\n",
    "\n",
    "    print(\"Importing Test CSV File\")\n",
    "\n",
    "    test_csv = pd.read_csv(\"C:\\ComputerScience\\DeepLearning\\GitProjects\\\\toxicspeechspot\\\\toxicspeechspot\\Data\\OriginalData\\\\test.csv\", low_memory = False) ##loads data frame using pandas\n",
    "\n",
    "    print(\"Testing data frames loaded \\n\")\n",
    "\n",
    "    shape = test_csv.shape #dimensions of the data frame\n",
    "    rows = int(shape[0]) - 1 #taking the number of rows\n",
    "\n",
    "    stop_words = set(stopwords.words('english')) ##uses nltk stop words (useless words)\n",
    "    filtered_sentence = []\n",
    "    processed =[]\n",
    "    tagged_words = []\n",
    "    tagged = []\n",
    "    tagged_len = int\n",
    "\n",
    "    print(\"Text preprocessing started:\")\n",
    "\n",
    "    for i in range (0,rows):         \n",
    "\n",
    "        temp = str(test_csv.loc[i, 'comment_text'])    ###defines temp as the cell\n",
    "        temp_token = word_tokenize(temp)\t###tokenizes (splits up sentence into words) words in temp\n",
    "        filtered_sentence = [word for word in temp_token if word != stop_words] ###fitered sentence = every word in temp that is not in stop words is \n",
    "\n",
    "        tagged = nltk.pos_tag(filtered_sentence) ###tags (categorizes) word in filtered sentence\n",
    "        tagged_len = int(len(tagged))  ###counts the number of tagged words\n",
    "\n",
    "        test_csv.at[i, 'comment_text'] = [tagged]  ###inserts list of tagged words into the same cell the original sentence came from\n",
    "        test_csv.loc[i, 'tagged_length'] = tagged_len ###inserts length of tagged words into a empty column\n",
    "\n",
    "        print(\"Rows completed: {} / {}    Progress {:2.1%}\".format(i, rows, i /rows), end=\"\\r\") ###prints progress of loop \n",
    "\n",
    "    print(\"\\nText preprocessing finished\")\n",
    "\n",
    "    test_csv.to_csv(\"C:\\ComputerScience\\DeepLearning\\GitProjects\\\\toxicspeechspot\\\\toxicspeechspot\\Data\\\\TaggedData\\\\test_tagged.csv\", index = False)  ###writes modified csv to a csv file\n",
    "\n",
    "    print(\"TESTING DATA TAGGING FINISHED\")"
   ]
  },
  {
   "cell_type": "code",
   "execution_count": 17,
   "metadata": {},
   "outputs": [
    {
     "name": "stdout",
     "output_type": "stream",
     "text": [
      "Done\n"
     ]
    }
   ],
   "source": [
    "tag_train()"
   ]
  },
  {
   "cell_type": "code",
   "execution_count": null,
   "metadata": {
    "collapsed": true
   },
   "outputs": [],
   "source": [
    "tag_test()"
   ]
  }
 ],
 "metadata": {
  "kernelspec": {
   "display_name": "Python 3",
   "language": "python",
   "name": "python3"
  },
  "language_info": {
   "codemirror_mode": {
    "name": "ipython",
    "version": 3
   },
   "file_extension": ".py",
   "mimetype": "text/x-python",
   "name": "python",
   "nbconvert_exporter": "python",
   "pygments_lexer": "ipython3",
   "version": "3.6.2"
  }
 },
 "nbformat": 4,
 "nbformat_minor": 2
}
